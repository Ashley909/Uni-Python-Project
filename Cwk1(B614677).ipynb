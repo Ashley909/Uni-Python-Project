{
  "nbformat": 4,
  "nbformat_minor": 0,
  "metadata": {
    "colab": {
      "name": "Cwk1(B614677).ipynb",
      "provenance": [],
      "collapsed_sections": [],
      "toc_visible": true
    },
    "kernelspec": {
      "name": "python3",
      "display_name": "Python 3"
    }
  },
  "cells": [
    {
      "cell_type": "markdown",
      "metadata": {
        "id": "-34t1I318vM9"
      },
      "source": [
        "#**Task 1**"
      ]
    },
    {
      "cell_type": "markdown",
      "metadata": {
        "id": "LClGaXO385Z3"
      },
      "source": [
        " 10% discount when the `total_price` is between £20 and £40, inclusive. If the `total_price` is greater than £40, there is a 15% discount.\n",
        "\n",
        "Function taking lists of *quantity* and a list of *unit price* as inputs and returning the `discounted_price` "
      ]
    },
    {
      "cell_type": "code",
      "metadata": {
        "colab": {
          "base_uri": "https://localhost:8080/"
        },
        "id": "KUmiIvMr0xug",
        "outputId": "9a500b52-4881-47c6-c27f-4f8495d6f50c"
      },
      "source": [
        "# Price Promotion function\n",
        "\n",
        "def promo(quantity, unit_price):\n",
        "  total_ps = []\n",
        "  discount_price = []\n",
        "  total_price = 0\n",
        "# lists quantity and unit price need multipying\n",
        "# together and set in new list\n",
        "  for num1, num2 in zip(quantity, unit_price):\n",
        "    total_ps.append(num1 * num2)\n",
        "    # selecting the individual prices to sum\n",
        "  for i in total_ps:\n",
        "      total_price = sum(total_ps) \n",
        "  if total_price < 20:\n",
        "   # no discount applied so prices not overwritten\n",
        "        discount_price.append(total_price)\n",
        "        print('No Discount')\n",
        "  elif total_price > 40:\n",
        "     # prices need resetting as discount applys\n",
        "        total_price = total_price * 0.85\n",
        "        discount_price.append(total_price)\n",
        "        print('15% Discount Applied')\n",
        "  else:\n",
        "    # price bewteen 20 and 40 need resetting\n",
        "        total_price  = total_price  * 0.9\n",
        "        discount_price.append(total_price )\n",
        "        print('10% Discount Applied')\n",
        "  return discount_price \n",
        "\n",
        "\n",
        "promo([2, 4, 6], [5, 6.99, 3.59])"
      ],
      "execution_count": 4,
      "outputs": [
        {
          "output_type": "stream",
          "text": [
            "15% Discount Applied\n"
          ],
          "name": "stdout"
        },
        {
          "output_type": "execute_result",
          "data": {
            "text/plain": [
              "[50.574999999999996]"
            ]
          },
          "metadata": {
            "tags": []
          },
          "execution_count": 4
        }
      ]
    },
    {
      "cell_type": "markdown",
      "metadata": {
        "id": "6cTRmQxMzrnB"
      },
      "source": [
        "#**Task 2**"
      ]
    },
    {
      "cell_type": "markdown",
      "metadata": {
        "id": "fSajeFjizvG6"
      },
      "source": [
        "## ***2.1***\n",
        "\n",
        "Write a program to read the drinks.txt file and calculate the total sale of each kind of drink.\n",
        "Please note that due to typo errors, the word cappuccino is sometimes recorded as cappuccin. The word cappuccin should be counted as cappuccino."
      ]
    },
    {
      "cell_type": "code",
      "metadata": {
        "id": "Nbkxdv3ln6Qn",
        "colab": {
          "base_uri": "https://localhost:8080/"
        },
        "outputId": "01dc5ced-22e9-4b41-9dc3-b17d83dc1a2a"
      },
      "source": [
        "# drink.txt file has bee downloaded onto desktop computer\n",
        "# Loading necessary libraries and Uploading daataset  \n",
        "from google.colab import drive\n",
        "drive.mount('/content/drive')\n",
        "\n"
      ],
      "execution_count": 1,
      "outputs": [
        {
          "output_type": "stream",
          "text": [
            "Mounted at /content/drive\n"
          ],
          "name": "stdout"
        }
      ]
    },
    {
      "cell_type": "code",
      "metadata": {
        "colab": {
          "base_uri": "https://localhost:8080/"
        },
        "id": "YlH9cCJB_-Ls",
        "outputId": "52869f43-9a53-43a1-c196-64a83eafb878"
      },
      "source": [
        "# Reading the drink.txt file\n",
        "d = open(\"drink.txt\", \"r\")\n",
        "print(d.read())"
      ],
      "execution_count": 2,
      "outputs": [
        {
          "output_type": "stream",
          "text": [
            "cappuccino, tea, espresso, tea, cappuccino, tea, espresso,cappuccino, tea, espresso\n",
            "cappuccino, tea, espresso, tea, cappuccin, tea, espresso,espresso,cappuccino, tea, espresso\n",
            "tea, espresso, tea,tea, espresso, tea,espresso,espresso,cappuccin\n",
            "cappuccino, tea, espresso, tea,cappuccino, tea, espresso,espresso, tea,\n",
            "tea, espresso, tea,tea, espresso,cappuccin\n",
            "tea,espresso,espresso,tea,tea, espresso,espresso,cappuccin\n",
            "espresso, tea,tea, cappuccin, espresso, tea,espresso,espresso,cappuccin\n",
            "tea, espresso, tea, cappuccin, tea, espresso,espresso,cappuccino, tea, espresso\n",
            "tea, espresso, tea, cappuccin, tea, espresso,cappuccino, tea, espresso\n",
            "tea, espresso, tea, cappuccin, tea, espresso\n"
          ],
          "name": "stdout"
        }
      ]
    },
    {
      "cell_type": "code",
      "metadata": {
        "colab": {
          "base_uri": "https://localhost:8080/"
        },
        "id": "7xgs_0lJ7S80",
        "outputId": "23441679-9fe4-4134-a451-0ea702cc65f2"
      },
      "source": [
        "# Frequency of all the different types of drink within the txt file\n",
        "def main():\n",
        "  global count_cn, count_co, count_tea,  count_esprsso\n",
        "  file  = open('drink.txt', 'r').read()\n",
        "  count_cn = file.count('cappuccino')\n",
        "  count_co = file.count('cappuccin')\n",
        "  count_tea = file.count('tea')\n",
        "  count_esprsso = file.count('espresso')\n",
        "  print('Tea Total Sale is:\\n', count_tea)\n",
        "        \n",
        "  print('Espresso Total Sale is:\\n', count_esprsso)\n",
        "  \n",
        "main()\n",
        "\n",
        "# as there is a spelling mistake cappuccin count will be added\n",
        "#  to cappuccino count\n",
        "count_cp = count_cn + count_co\n",
        "print(\"Cappuccino Total Sale is:\\n\", count_cp)"
      ],
      "execution_count": 3,
      "outputs": [
        {
          "output_type": "stream",
          "text": [
            "Tea Total Sale is:\n",
            " 36\n",
            "Espresso Total Sale is:\n",
            " 33\n",
            "Cappuccino Total Sale is:\n",
            " 27\n"
          ],
          "name": "stdout"
        }
      ]
    },
    {
      "cell_type": "markdown",
      "metadata": {
        "id": "bPJ4OOE-TnAz"
      },
      "source": [
        "## ***2.2***"
      ]
    },
    {
      "cell_type": "markdown",
      "metadata": {
        "id": "ZzJwJghCTr6W"
      },
      "source": [
        "Bar chart to illustrate the popularity of the drinks."
      ]
    },
    {
      "cell_type": "code",
      "metadata": {
        "id": "2_VMpCXI8EZV"
      },
      "source": [
        "# Relevant libraries\n",
        "import matplotlib.pyplot as plt\n",
        "import numpy as np"
      ],
      "execution_count": 5,
      "outputs": []
    },
    {
      "cell_type": "code",
      "metadata": {
        "colab": {
          "base_uri": "https://localhost:8080/",
          "height": 487
        },
        "id": "kYN769bnR1F1",
        "outputId": "c188dddb-f0ad-4077-9143-cac51e1bab16"
      },
      "source": [
        "# As this is a small data set, data can be prepared manually\n",
        "drink_types = [\"Cappuccino\", \"Espresso\", \"Tea\"]\n",
        "total_sold = [27, 33, 36]\n",
        "# plot the bar graph\n",
        "plt.style.use('classic')\n",
        "plt.bar(drink_types, total_sold, color = 'orange', label = 'Drinks')\n",
        "plt.grid(alpha = 0.75)\n",
        "# add title, X label, Y label\n",
        "plt.title(\"Drink Order Popularity\")\n",
        "plt.xlabel(\"Drinks\")\n",
        "plt.ylabel(\"Total No. Sold\")\n",
        "plt.legend(loc = 'upper left')\n",
        "plt.show"
      ],
      "execution_count": 6,
      "outputs": [
        {
          "output_type": "execute_result",
          "data": {
            "text/plain": [
              "<function matplotlib.pyplot.show>"
            ]
          },
          "metadata": {
            "tags": []
          },
          "execution_count": 6
        },
        {
          "output_type": "display_data",
          "data": {
            "image/png": "[encoded data removed]",
            "text/plain": [
              "<Figure size 640x480 with 1 Axes>"
            ]
          },
          "metadata": {
            "tags": []
          }
        }
      ]
    },
    {
      "cell_type": "markdown",
      "metadata": {
        "id": "vGlTKpo-YntK"
      },
      "source": [
        "# **Task 3**"
      ]
    },
    {
      "cell_type": "markdown",
      "metadata": {
        "id": "bcqIWcKXYv_x"
      },
      "source": [
        "## ***3.1***"
      ]
    },
    {
      "cell_type": "markdown",
      "metadata": {
        "id": "o9As7OHmYzvZ"
      },
      "source": [
        "An array x with 100 random integers from 0 to 50."
      ]
    },
    {
      "cell_type": "code",
      "metadata": {
        "colab": {
          "base_uri": "https://localhost:8080/"
        },
        "id": "sm-lvfccVVUp",
        "outputId": "c7ba2211-b28d-47df-c2d3-7f8e4bce6171"
      },
      "source": [
        " # an array with 100 numbers\n",
        "x = np.random.randint(0,51,100)\n",
        "print(x)"
      ],
      "execution_count": 7,
      "outputs": [
        {
          "output_type": "stream",
          "text": [
            "[18 22 22 44 28 36  2  4 16 18 40 16 14 20 41 30 46 19 27 38 21 39 47 27\n",
            "  0 22 18 40 46 14 33  8  9  0 24 21 30 36 31  7 44 39 34 50 27  7  9  7\n",
            "  8  4 37 18 20 31 33 26  1 48 30  2 27 13 30 31 29 12 33 43  2  3 29 17\n",
            " 44 33 44  7 30 34 38 15 28  7 11 23 11 38  6 23 19  1  7  5 30 34  7 26\n",
            " 38  8  2 21]\n"
          ],
          "name": "stdout"
        }
      ]
    },
    {
      "cell_type": "markdown",
      "metadata": {
        "id": "NKZu2NkXZytV"
      },
      "source": [
        "## ***3.2***"
      ]
    },
    {
      "cell_type": "markdown",
      "metadata": {
        "id": "o386x4DSaAV-"
      },
      "source": [
        "A function named MaxFun to calculate the maximum value of array x."
      ]
    },
    {
      "cell_type": "code",
      "metadata": {
        "colab": {
          "base_uri": "https://localhost:8080/"
        },
        "id": "oahmCkJuZhZ5",
        "outputId": "8a7c9c6a-0ae8-4331-b745-6dd3566ccf18"
      },
      "source": [
        "# function finding maximum value\n",
        "\n",
        "def MaxFun(array):\n",
        "  global maximum\n",
        "  for i in array:\n",
        "    maximum = max(array)\n",
        "  print(maximum)\n",
        "\n",
        "MaxFun(x)\n",
        "\n"
      ],
      "execution_count": 8,
      "outputs": [
        {
          "output_type": "stream",
          "text": [
            "50\n"
          ],
          "name": "stdout"
        }
      ]
    },
    {
      "cell_type": "markdown",
      "metadata": {
        "id": "D6pjng63bfAX"
      },
      "source": [
        "## ***3.3***"
      ]
    },
    {
      "cell_type": "markdown",
      "metadata": {
        "id": "6uZSfSl_bhui"
      },
      "source": [
        "A function named MinFun to calculate the minimum value of array x."
      ]
    },
    {
      "cell_type": "code",
      "metadata": {
        "colab": {
          "base_uri": "https://localhost:8080/"
        },
        "id": "WhMt7L2vbK_c",
        "outputId": "ac155d42-bd32-4087-97d2-4ed5240b255b"
      },
      "source": [
        "# function finding minimum value\n",
        "\n",
        "def MinFun(array):\n",
        "  global minimum\n",
        "  for i in array:\n",
        "    minimum = min(array)\n",
        "  print(minimum)\n",
        "\n",
        "MinFun(x)\n"
      ],
      "execution_count": 9,
      "outputs": [
        {
          "output_type": "stream",
          "text": [
            "0\n"
          ],
          "name": "stdout"
        }
      ]
    },
    {
      "cell_type": "markdown",
      "metadata": {
        "id": "geyLu40jb7uM"
      },
      "source": [
        "## ***3.4***"
      ]
    },
    {
      "cell_type": "markdown",
      "metadata": {
        "id": "LI-ByuN1b-Ob"
      },
      "source": [
        "Normalize array x "
      ]
    },
    {
      "cell_type": "code",
      "metadata": {
        "colab": {
          "base_uri": "https://localhost:8080/"
        },
        "id": "XkSx7AMXb6a8",
        "outputId": "16e8f399-702e-4d32-c0f2-bceba3ad0141"
      },
      "source": [
        "# Normalising array\n",
        "\n",
        "x_normed = (x - minimum) / (maximum - minimum)\n",
        "print(x_normed)"
      ],
      "execution_count": 10,
      "outputs": [
        {
          "output_type": "stream",
          "text": [
            "[0.36 0.44 0.44 0.88 0.56 0.72 0.04 0.08 0.32 0.36 0.8  0.32 0.28 0.4\n",
            " 0.82 0.6  0.92 0.38 0.54 0.76 0.42 0.78 0.94 0.54 0.   0.44 0.36 0.8\n",
            " 0.92 0.28 0.66 0.16 0.18 0.   0.48 0.42 0.6  0.72 0.62 0.14 0.88 0.78\n",
            " 0.68 1.   0.54 0.14 0.18 0.14 0.16 0.08 0.74 0.36 0.4  0.62 0.66 0.52\n",
            " 0.02 0.96 0.6  0.04 0.54 0.26 0.6  0.62 0.58 0.24 0.66 0.86 0.04 0.06\n",
            " 0.58 0.34 0.88 0.66 0.88 0.14 0.6  0.68 0.76 0.3  0.56 0.14 0.22 0.46\n",
            " 0.22 0.76 0.12 0.46 0.38 0.02 0.14 0.1  0.6  0.68 0.14 0.52 0.76 0.16\n",
            " 0.04 0.42]\n"
          ],
          "name": "stdout"
        }
      ]
    },
    {
      "cell_type": "markdown",
      "metadata": {
        "id": "OAg8h_Dtc-60"
      },
      "source": [
        "# ***Task 4***"
      ]
    },
    {
      "cell_type": "markdown",
      "metadata": {
        "id": "SRZjb-qkdBZd"
      },
      "source": [
        "## ***4.1***"
      ]
    },
    {
      "cell_type": "markdown",
      "metadata": {
        "id": "m42Uh2pHdEru"
      },
      "source": [
        "Create a DataFrame named dfRetail (you can create it from Dictionary, Lists or Numpy arrays). The DataFrame should contain five columns, including the information about product_name, sold_quantity, purchase_price, selling_price, and import_country. Generate data yourself for each column. The DataFrame must have 10 rows (representing for 10 different products)."
      ]
    },
    {
      "cell_type": "code",
      "metadata": {
        "colab": {
          "base_uri": "https://localhost:8080/"
        },
        "id": "OBKApt9dc6Hx",
        "outputId": "9e511a95-b000-48a6-ba67-b184aad19df6"
      },
      "source": [
        "# Creating a DataFrame \n",
        "# importing necessary libraries \n",
        "import numpy as np\n",
        "import pandas as pd\n",
        "\n",
        "raw_data = {'purchase_price': [100,80,50,60,45, 20, 30, 70, 10, 5],\n",
        "          'sold_quantity': [1200,250,400,700,350,400,900,410,630,720],\n",
        "          'selling_price': [150,120,90,80,55,35,80,90,15,20],\n",
        "          'import_country': ['Afghanistan', 'Albania', 'Angola', \n",
        "                             'Argentina', 'Australia', 'Belgium',\n",
        "                             'Bahrain', 'Barbados', 'Austria',\n",
        "                             'Bangladesh']\n",
        "           } # listing all column values\n",
        "\n",
        "dfRetail = pd.DataFrame(raw_data,\n",
        "                        columns = ['purchase_price','sold_quantity',\n",
        "                                  'selling_price', 'import_country'],\n",
        "                        # names of all products \n",
        "                        index = ['Coats','Jackets','Cardigans', 'Trousers',\n",
        "                                 'Shirts','Swimwear', 'Sports Clothing',\n",
        "                                 'Jeans', 'Tracksuits', 'Underwear'])\n",
        "# setting index as a column\n",
        "dfRetail.reset_index(inplace=True)\n",
        "dfRetail = dfRetail.rename(columns = {'index':'product_name'})\n",
        "\n",
        "print(dfRetail)\n",
        "\n"
      ],
      "execution_count": 11,
      "outputs": [
        {
          "output_type": "stream",
          "text": [
            "      product_name  purchase_price  sold_quantity  selling_price import_country\n",
            "0            Coats             100           1200            150    Afghanistan\n",
            "1          Jackets              80            250            120        Albania\n",
            "2        Cardigans              50            400             90         Angola\n",
            "3         Trousers              60            700             80      Argentina\n",
            "4           Shirts              45            350             55      Australia\n",
            "5         Swimwear              20            400             35        Belgium\n",
            "6  Sports Clothing              30            900             80        Bahrain\n",
            "7            Jeans              70            410             90       Barbados\n",
            "8       Tracksuits              10            630             15        Austria\n",
            "9        Underwear               5            720             20     Bangladesh\n"
          ],
          "name": "stdout"
        }
      ]
    },
    {
      "cell_type": "markdown",
      "metadata": {
        "id": "gV_cP0vwtmsQ"
      },
      "source": [
        "## ***4.2***"
      ]
    },
    {
      "cell_type": "markdown",
      "metadata": {
        "id": "Gm638EK3tqpH"
      },
      "source": [
        "Adding a column named profit to dfRetail. "
      ]
    },
    {
      "cell_type": "code",
      "metadata": {
        "colab": {
          "base_uri": "https://localhost:8080/"
        },
        "id": "ynCDRVumftVf",
        "outputId": "83c02147-6010-4a9e-a3c1-da7de50be368"
      },
      "source": [
        "# calculating the profit and inserting this into dfRetail\n",
        "profit = (dfRetail.selling_price - dfRetail.purchase_price)*dfRetail.sold_quantity\n",
        "dfRetail['profit'] = profit\n",
        "# produces a new column with the calc. profits\n",
        "print(dfRetail)"
      ],
      "execution_count": 12,
      "outputs": [
        {
          "output_type": "stream",
          "text": [
            "      product_name  purchase_price  ...  import_country  profit\n",
            "0            Coats             100  ...     Afghanistan   60000\n",
            "1          Jackets              80  ...         Albania   10000\n",
            "2        Cardigans              50  ...          Angola   16000\n",
            "3         Trousers              60  ...       Argentina   14000\n",
            "4           Shirts              45  ...       Australia    3500\n",
            "5         Swimwear              20  ...         Belgium    6000\n",
            "6  Sports Clothing              30  ...         Bahrain   45000\n",
            "7            Jeans              70  ...        Barbados    8200\n",
            "8       Tracksuits              10  ...         Austria    3150\n",
            "9        Underwear               5  ...      Bangladesh   10800\n",
            "\n",
            "[10 rows x 6 columns]\n"
          ],
          "name": "stdout"
        }
      ]
    },
    {
      "cell_type": "markdown",
      "metadata": {
        "id": "Ob6_yHqvvBPe"
      },
      "source": [
        "## ***4.3***"
      ]
    },
    {
      "cell_type": "markdown",
      "metadata": {
        "id": "fviNO89yvEgD"
      },
      "source": [
        "Identifing the top five profitable products and presenting them via a pie chart."
      ]
    },
    {
      "cell_type": "code",
      "metadata": {
        "id": "mUObc2vB47Aa",
        "colab": {
          "base_uri": "https://localhost:8080/",
          "height": 390
        },
        "outputId": "a85f151e-b989-4f79-bcbf-2fa65d6cff11"
      },
      "source": [
        "dfRetail.groupby('product_name')['profit'].describe()"
      ],
      "execution_count": 13,
      "outputs": [
        {
          "output_type": "execute_result",
          "data": {
            "text/html": [
              "<div>\n",
              "<style scoped>\n",
              "    .dataframe tbody tr th:only-of-type {\n",
              "        vertical-align: middle;\n",
              "    }\n",
              "\n",
              "    .dataframe tbody tr th {\n",
              "        vertical-align: top;\n",
              "    }\n",
              "\n",
              "    .dataframe thead th {\n",
              "        text-align: right;\n",
              "    }\n",
              "</style>\n",
              "<table border=\"1\" class=\"dataframe\">\n",
              "  <thead>\n",
              "    <tr style=\"text-align: right;\">\n",
              "      <th></th>\n",
              "      <th>count</th>\n",
              "      <th>mean</th>\n",
              "      <th>std</th>\n",
              "      <th>min</th>\n",
              "      <th>25%</th>\n",
              "      <th>50%</th>\n",
              "      <th>75%</th>\n",
              "      <th>max</th>\n",
              "    </tr>\n",
              "    <tr>\n",
              "      <th>product_name</th>\n",
              "      <th></th>\n",
              "      <th></th>\n",
              "      <th></th>\n",
              "      <th></th>\n",
              "      <th></th>\n",
              "      <th></th>\n",
              "      <th></th>\n",
              "      <th></th>\n",
              "    </tr>\n",
              "  </thead>\n",
              "  <tbody>\n",
              "    <tr>\n",
              "      <th>Cardigans</th>\n",
              "      <td>1.0</td>\n",
              "      <td>16000.0</td>\n",
              "      <td>NaN</td>\n",
              "      <td>16000.0</td>\n",
              "      <td>16000.0</td>\n",
              "      <td>16000.0</td>\n",
              "      <td>16000.0</td>\n",
              "      <td>16000.0</td>\n",
              "    </tr>\n",
              "    <tr>\n",
              "      <th>Coats</th>\n",
              "      <td>1.0</td>\n",
              "      <td>60000.0</td>\n",
              "      <td>NaN</td>\n",
              "      <td>60000.0</td>\n",
              "      <td>60000.0</td>\n",
              "      <td>60000.0</td>\n",
              "      <td>60000.0</td>\n",
              "      <td>60000.0</td>\n",
              "    </tr>\n",
              "    <tr>\n",
              "      <th>Jackets</th>\n",
              "      <td>1.0</td>\n",
              "      <td>10000.0</td>\n",
              "      <td>NaN</td>\n",
              "      <td>10000.0</td>\n",
              "      <td>10000.0</td>\n",
              "      <td>10000.0</td>\n",
              "      <td>10000.0</td>\n",
              "      <td>10000.0</td>\n",
              "    </tr>\n",
              "    <tr>\n",
              "      <th>Jeans</th>\n",
              "      <td>1.0</td>\n",
              "      <td>8200.0</td>\n",
              "      <td>NaN</td>\n",
              "      <td>8200.0</td>\n",
              "      <td>8200.0</td>\n",
              "      <td>8200.0</td>\n",
              "      <td>8200.0</td>\n",
              "      <td>8200.0</td>\n",
              "    </tr>\n",
              "    <tr>\n",
              "      <th>Shirts</th>\n",
              "      <td>1.0</td>\n",
              "      <td>3500.0</td>\n",
              "      <td>NaN</td>\n",
              "      <td>3500.0</td>\n",
              "      <td>3500.0</td>\n",
              "      <td>3500.0</td>\n",
              "      <td>3500.0</td>\n",
              "      <td>3500.0</td>\n",
              "    </tr>\n",
              "    <tr>\n",
              "      <th>Sports Clothing</th>\n",
              "      <td>1.0</td>\n",
              "      <td>45000.0</td>\n",
              "      <td>NaN</td>\n",
              "      <td>45000.0</td>\n",
              "      <td>45000.0</td>\n",
              "      <td>45000.0</td>\n",
              "      <td>45000.0</td>\n",
              "      <td>45000.0</td>\n",
              "    </tr>\n",
              "    <tr>\n",
              "      <th>Swimwear</th>\n",
              "      <td>1.0</td>\n",
              "      <td>6000.0</td>\n",
              "      <td>NaN</td>\n",
              "      <td>6000.0</td>\n",
              "      <td>6000.0</td>\n",
              "      <td>6000.0</td>\n",
              "      <td>6000.0</td>\n",
              "      <td>6000.0</td>\n",
              "    </tr>\n",
              "    <tr>\n",
              "      <th>Tracksuits</th>\n",
              "      <td>1.0</td>\n",
              "      <td>3150.0</td>\n",
              "      <td>NaN</td>\n",
              "      <td>3150.0</td>\n",
              "      <td>3150.0</td>\n",
              "      <td>3150.0</td>\n",
              "      <td>3150.0</td>\n",
              "      <td>3150.0</td>\n",
              "    </tr>\n",
              "    <tr>\n",
              "      <th>Trousers</th>\n",
              "      <td>1.0</td>\n",
              "      <td>14000.0</td>\n",
              "      <td>NaN</td>\n",
              "      <td>14000.0</td>\n",
              "      <td>14000.0</td>\n",
              "      <td>14000.0</td>\n",
              "      <td>14000.0</td>\n",
              "      <td>14000.0</td>\n",
              "    </tr>\n",
              "    <tr>\n",
              "      <th>Underwear</th>\n",
              "      <td>1.0</td>\n",
              "      <td>10800.0</td>\n",
              "      <td>NaN</td>\n",
              "      <td>10800.0</td>\n",
              "      <td>10800.0</td>\n",
              "      <td>10800.0</td>\n",
              "      <td>10800.0</td>\n",
              "      <td>10800.0</td>\n",
              "    </tr>\n",
              "  </tbody>\n",
              "</table>\n",
              "</div>"
            ],
            "text/plain": [
              "                 count     mean  std  ...      50%      75%      max\n",
              "product_name                          ...                           \n",
              "Cardigans          1.0  16000.0  NaN  ...  16000.0  16000.0  16000.0\n",
              "Coats              1.0  60000.0  NaN  ...  60000.0  60000.0  60000.0\n",
              "Jackets            1.0  10000.0  NaN  ...  10000.0  10000.0  10000.0\n",
              "Jeans              1.0   8200.0  NaN  ...   8200.0   8200.0   8200.0\n",
              "Shirts             1.0   3500.0  NaN  ...   3500.0   3500.0   3500.0\n",
              "Sports Clothing    1.0  45000.0  NaN  ...  45000.0  45000.0  45000.0\n",
              "Swimwear           1.0   6000.0  NaN  ...   6000.0   6000.0   6000.0\n",
              "Tracksuits         1.0   3150.0  NaN  ...   3150.0   3150.0   3150.0\n",
              "Trousers           1.0  14000.0  NaN  ...  14000.0  14000.0  14000.0\n",
              "Underwear          1.0  10800.0  NaN  ...  10800.0  10800.0  10800.0\n",
              "\n",
              "[10 rows x 8 columns]"
            ]
          },
          "metadata": {
            "tags": []
          },
          "execution_count": 13
        }
      ]
    },
    {
      "cell_type": "code",
      "metadata": {
        "colab": {
          "base_uri": "https://localhost:8080/"
        },
        "id": "wGL4ba8a32LG",
        "outputId": "e01b047a-01bf-4171-e731-3759aac8ec45"
      },
      "source": [
        "# grouping by product name  \r\n",
        "df = dfRetail.groupby('product_name')['profit'].sum().sort_values(ascending = False)\r\n",
        "df"
      ],
      "execution_count": 14,
      "outputs": [
        {
          "output_type": "execute_result",
          "data": {
            "text/plain": [
              "product_name\n",
              "Coats              60000\n",
              "Sports Clothing    45000\n",
              "Cardigans          16000\n",
              "Trousers           14000\n",
              "Underwear          10800\n",
              "Jackets            10000\n",
              "Jeans               8200\n",
              "Swimwear            6000\n",
              "Shirts              3500\n",
              "Tracksuits          3150\n",
              "Name: profit, dtype: int64"
            ]
          },
          "metadata": {
            "tags": []
          },
          "execution_count": 14
        }
      ]
    },
    {
      "cell_type": "code",
      "metadata": {
        "id": "GoQrqmXV5mJA",
        "colab": {
          "base_uri": "https://localhost:8080/"
        },
        "outputId": "ad81e0df-57ac-4f2c-80d6-86e898a473db"
      },
      "source": [
        "# finding top 5 profits\n",
        "top5 = df.iloc[0:5]\n",
        "print(top5)"
      ],
      "execution_count": 15,
      "outputs": [
        {
          "output_type": "stream",
          "text": [
            "product_name\n",
            "Coats              60000\n",
            "Sports Clothing    45000\n",
            "Cardigans          16000\n",
            "Trousers           14000\n",
            "Underwear          10800\n",
            "Name: profit, dtype: int64\n"
          ],
          "name": "stdout"
        }
      ]
    },
    {
      "cell_type": "code",
      "metadata": {
        "colab": {
          "base_uri": "https://localhost:8080/",
          "height": 434
        },
        "id": "XAA5100ZNBus",
        "outputId": "10de11bc-eb93-4572-d1bd-a941c4c34bda"
      },
      "source": [
        "# Plotting of Pie chart\r\n",
        "top5.plot(kind = 'pie', autopct = '%1.0f%%',\r\n",
        "          startangle = 90)\r\n",
        "plt.title('Top 5 Product Profits')\r\n",
        "plt.legend(loc = 'lower left')\r\n",
        "plt.show()"
      ],
      "execution_count": 16,
      "outputs": [
        {
          "output_type": "display_data",
          "data": {
            "image/png": "[encoded data removed]",
            "text/plain": [
              "<Figure size 640x480 with 1 Axes>"
            ]
          },
          "metadata": {
            "tags": []
          }
        }
      ]
    }
  ]
}