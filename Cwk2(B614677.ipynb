{
  "nbformat": 4,
  "nbformat_minor": 0,
  "metadata": {
    "colab": {
      "name": "Cwk2(B614677.ipynb",
      "provenance": [],
      "collapsed_sections": []
    },
    "kernelspec": {
      "name": "python3",
      "display_name": "Python 3"
    }
  },
  "cells": [
    {
      "cell_type": "markdown",
      "metadata": {
        "id": "kBggjL7tuyju"
      },
      "source": [
        "# TASK 1"
      ]
    },
    {
      "cell_type": "markdown",
      "metadata": {
        "id": "ivXnSKum9ioe"
      },
      "source": [
        "## ***1.1***"
      ]
    },
    {
      "cell_type": "markdown",
      "metadata": {
        "id": "RhGQ3y7c92Bu"
      },
      "source": [
        "Reading the data into a DataFrame called movies and getting the number of columns and rows."
      ]
    },
    {
      "cell_type": "code",
      "metadata": {
        "id": "uRpAEQif9_lb",
        "colab": {
          "base_uri": "https://localhost:8080/"
        },
        "outputId": "624d9c6b-055a-4ed4-b7b8-f5c478e93337"
      },
      "source": [
        "# IMDB movie data file has bee downloaded onto desktop computer\r\n",
        "# Loading necessary libraries and Uploading daataset  \r\n",
        "from google.colab import drive\r\n",
        "drive.mount('/content/drive')"
      ],
      "execution_count": 2,
      "outputs": [
        {
          "output_type": "stream",
          "text": [
            "Mounted at /content/drive\n"
          ],
          "name": "stdout"
        }
      ]
    },
    {
      "cell_type": "code",
      "metadata": {
        "colab": {
          "base_uri": "https://localhost:8080/"
        },
        "id": "QMpisK5_3i23",
        "outputId": "d4c3eeb0-18dc-4b81-9137-db0189d96b74"
      },
      "source": [
        "# Reading the IMDB movie data file as DataFrame\r\n",
        "import pandas as pd\r\n",
        "movies = pd.read_csv(\"drive/MyDrive/IMDB-Movie-Data.csv\")\r\n",
        "\r\n",
        "print(movies.shape[0]) # no. of obersations/rows\r\n",
        "print(movies.shape[1]) # no. of variables/columns\r\n",
        "print(movies.shape)"
      ],
      "execution_count": 3,
      "outputs": [
        {
          "output_type": "stream",
          "text": [
            "1000\n",
            "12\n",
            "(1000, 12)\n"
          ],
          "name": "stdout"
        }
      ]
    },
    {
      "cell_type": "code",
      "metadata": {
        "colab": {
          "base_uri": "https://localhost:8080/",
          "height": 297
        },
        "id": "zp70B3VZ5_IB",
        "outputId": "c4d3ebd9-b5ef-4d7a-eddf-31f0434f7e4a"
      },
      "source": [
        "# Obtaining the minimum, maximum, and mean value of each numerical column\r\n",
        "movies.describe()"
      ],
      "execution_count": 4,
      "outputs": [
        {
          "output_type": "execute_result",
          "data": {
            "text/html": [
              "<div>\n",
              "<style scoped>\n",
              "    .dataframe tbody tr th:only-of-type {\n",
              "        vertical-align: middle;\n",
              "    }\n",
              "\n",
              "    .dataframe tbody tr th {\n",
              "        vertical-align: top;\n",
              "    }\n",
              "\n",
              "    .dataframe thead th {\n",
              "        text-align: right;\n",
              "    }\n",
              "</style>\n",
              "<table border=\"1\" class=\"dataframe\">\n",
              "  <thead>\n",
              "    <tr style=\"text-align: right;\">\n",
              "      <th></th>\n",
              "      <th>Rank</th>\n",
              "      <th>Year</th>\n",
              "      <th>Runtime (Minutes)</th>\n",
              "      <th>Rating</th>\n",
              "      <th>Votes</th>\n",
              "      <th>Revenue (Millions)</th>\n",
              "      <th>Metascore</th>\n",
              "    </tr>\n",
              "  </thead>\n",
              "  <tbody>\n",
              "    <tr>\n",
              "      <th>count</th>\n",
              "      <td>1000.000000</td>\n",
              "      <td>1000.000000</td>\n",
              "      <td>1000.000000</td>\n",
              "      <td>1000.000000</td>\n",
              "      <td>1.000000e+03</td>\n",
              "      <td>872.000000</td>\n",
              "      <td>936.000000</td>\n",
              "    </tr>\n",
              "    <tr>\n",
              "      <th>mean</th>\n",
              "      <td>500.500000</td>\n",
              "      <td>2012.783000</td>\n",
              "      <td>113.172000</td>\n",
              "      <td>6.723200</td>\n",
              "      <td>1.698083e+05</td>\n",
              "      <td>82.956376</td>\n",
              "      <td>58.985043</td>\n",
              "    </tr>\n",
              "    <tr>\n",
              "      <th>std</th>\n",
              "      <td>288.819436</td>\n",
              "      <td>3.205962</td>\n",
              "      <td>18.810908</td>\n",
              "      <td>0.945429</td>\n",
              "      <td>1.887626e+05</td>\n",
              "      <td>103.253540</td>\n",
              "      <td>17.194757</td>\n",
              "    </tr>\n",
              "    <tr>\n",
              "      <th>min</th>\n",
              "      <td>1.000000</td>\n",
              "      <td>2006.000000</td>\n",
              "      <td>66.000000</td>\n",
              "      <td>1.900000</td>\n",
              "      <td>6.100000e+01</td>\n",
              "      <td>0.000000</td>\n",
              "      <td>11.000000</td>\n",
              "    </tr>\n",
              "    <tr>\n",
              "      <th>25%</th>\n",
              "      <td>250.750000</td>\n",
              "      <td>2010.000000</td>\n",
              "      <td>100.000000</td>\n",
              "      <td>6.200000</td>\n",
              "      <td>3.630900e+04</td>\n",
              "      <td>13.270000</td>\n",
              "      <td>47.000000</td>\n",
              "    </tr>\n",
              "    <tr>\n",
              "      <th>50%</th>\n",
              "      <td>500.500000</td>\n",
              "      <td>2014.000000</td>\n",
              "      <td>111.000000</td>\n",
              "      <td>6.800000</td>\n",
              "      <td>1.107990e+05</td>\n",
              "      <td>47.985000</td>\n",
              "      <td>59.500000</td>\n",
              "    </tr>\n",
              "    <tr>\n",
              "      <th>75%</th>\n",
              "      <td>750.250000</td>\n",
              "      <td>2016.000000</td>\n",
              "      <td>123.000000</td>\n",
              "      <td>7.400000</td>\n",
              "      <td>2.399098e+05</td>\n",
              "      <td>113.715000</td>\n",
              "      <td>72.000000</td>\n",
              "    </tr>\n",
              "    <tr>\n",
              "      <th>max</th>\n",
              "      <td>1000.000000</td>\n",
              "      <td>2016.000000</td>\n",
              "      <td>191.000000</td>\n",
              "      <td>9.000000</td>\n",
              "      <td>1.791916e+06</td>\n",
              "      <td>936.630000</td>\n",
              "      <td>100.000000</td>\n",
              "    </tr>\n",
              "  </tbody>\n",
              "</table>\n",
              "</div>"
            ],
            "text/plain": [
              "              Rank         Year  ...  Revenue (Millions)   Metascore\n",
              "count  1000.000000  1000.000000  ...          872.000000  936.000000\n",
              "mean    500.500000  2012.783000  ...           82.956376   58.985043\n",
              "std     288.819436     3.205962  ...          103.253540   17.194757\n",
              "min       1.000000  2006.000000  ...            0.000000   11.000000\n",
              "25%     250.750000  2010.000000  ...           13.270000   47.000000\n",
              "50%     500.500000  2014.000000  ...           47.985000   59.500000\n",
              "75%     750.250000  2016.000000  ...          113.715000   72.000000\n",
              "max    1000.000000  2016.000000  ...          936.630000  100.000000\n",
              "\n",
              "[8 rows x 7 columns]"
            ]
          },
          "metadata": {
            "tags": []
          },
          "execution_count": 4
        }
      ]
    },
    {
      "cell_type": "code",
      "metadata": {
        "colab": {
          "base_uri": "https://localhost:8080/"
        },
        "id": "F73dCWRwLuin",
        "outputId": "828d4f4c-17e6-42b8-c02a-28a9daf31f63"
      },
      "source": [
        "# Rename Runtime (Minutes) to Runtime_Minutes and Revenue (Millions) to Revenue_Millions, respectively\r\n",
        "movies.rename(columns = {\"Runtime (Minutes)\": \"Runtime_Minutes\",\r\n",
        "                       \"Revenue (Millions)\": \"Revenue_Millions\"}, inplace = True)\r\n",
        "print(movies.columns)"
      ],
      "execution_count": 5,
      "outputs": [
        {
          "output_type": "stream",
          "text": [
            "Index(['Rank', 'Title', 'Genre', 'Description', 'Director', 'Actors', 'Year',\n",
            "       'Runtime_Minutes', 'Rating', 'Votes', 'Revenue_Millions', 'Metascore'],\n",
            "      dtype='object')\n"
          ],
          "name": "stdout"
        }
      ]
    },
    {
      "cell_type": "markdown",
      "metadata": {
        "id": "65W8YbGFXHTb"
      },
      "source": [
        "## ***1.2***"
      ]
    },
    {
      "cell_type": "code",
      "metadata": {
        "id": "4GU5T-rcbvba",
        "colab": {
          "base_uri": "https://localhost:8080/"
        },
        "outputId": "3e79c135-c33b-4824-a981-1b20288549c8"
      },
      "source": [
        "# Finding all null values in the DataFrame movies\r\n",
        "print(movies.isnull().sum())"
      ],
      "execution_count": 6,
      "outputs": [
        {
          "output_type": "stream",
          "text": [
            "Rank                  0\n",
            "Title                 0\n",
            "Genre                 0\n",
            "Description           0\n",
            "Director              0\n",
            "Actors                0\n",
            "Year                  0\n",
            "Runtime_Minutes       0\n",
            "Rating                0\n",
            "Votes                 0\n",
            "Revenue_Millions    128\n",
            "Metascore            64\n",
            "dtype: int64\n"
          ],
          "name": "stdout"
        }
      ]
    },
    {
      "cell_type": "code",
      "metadata": {
        "id": "r8y9EglufaJJ",
        "colab": {
          "base_uri": "https://localhost:8080/"
        },
        "outputId": "140ea0f1-079d-4f00-95b1-a5d3e0dfb582"
      },
      "source": [
        "# Filling the null values with the mean value of the corresponding column \r\n",
        "# and producing a cleaned DataFrame called clean_movies\r\n",
        "\r\n",
        "# first column that needs NaNs replaced with mean\r\n",
        "revM = movies['Revenue_Millions'] \r\n",
        "revM_mean = revM.mean()\r\n",
        "print(revM_mean) # $83M\r\n",
        "revM.fillna(revM_mean, inplace = True)\r\n",
        "\r\n",
        "print(movies['Revenue_Millions'])\r\n",
        "print(movies.isnull().sum()) # check if successful operation"
      ],
      "execution_count": 7,
      "outputs": [
        {
          "output_type": "stream",
          "text": [
            "82.95637614678897\n",
            "0      333.130000\n",
            "1      126.460000\n",
            "2      138.120000\n",
            "3      270.320000\n",
            "4      325.020000\n",
            "          ...    \n",
            "995     82.956376\n",
            "996     17.540000\n",
            "997     58.010000\n",
            "998     82.956376\n",
            "999     19.640000\n",
            "Name: Revenue_Millions, Length: 1000, dtype: float64\n",
            "Rank                 0\n",
            "Title                0\n",
            "Genre                0\n",
            "Description          0\n",
            "Director             0\n",
            "Actors               0\n",
            "Year                 0\n",
            "Runtime_Minutes      0\n",
            "Rating               0\n",
            "Votes                0\n",
            "Revenue_Millions     0\n",
            "Metascore           64\n",
            "dtype: int64\n"
          ],
          "name": "stdout"
        }
      ]
    },
    {
      "cell_type": "code",
      "metadata": {
        "colab": {
          "base_uri": "https://localhost:8080/"
        },
        "id": "9lz3J1aOjIfk",
        "outputId": "5b9e20db-77ab-40f9-ed9a-d93aed8e5f44"
      },
      "source": [
        "# second column that needs NaNs replaced with mean\r\n",
        "meta = movies['Metascore']\r\n",
        "meta_mean = meta.mean()\r\n",
        "print(meta_mean) # 59\r\n",
        "meta.fillna(meta_mean, inplace = True)\r\n",
        "\r\n",
        "print(movies['Metascore'])\r\n",
        "print(movies.isnull().sum()) # check if successful operation"
      ],
      "execution_count": 8,
      "outputs": [
        {
          "output_type": "stream",
          "text": [
            "58.98504273504273\n",
            "0      76.0\n",
            "1      65.0\n",
            "2      62.0\n",
            "3      59.0\n",
            "4      40.0\n",
            "       ... \n",
            "995    45.0\n",
            "996    46.0\n",
            "997    50.0\n",
            "998    22.0\n",
            "999    11.0\n",
            "Name: Metascore, Length: 1000, dtype: float64\n",
            "Rank                0\n",
            "Title               0\n",
            "Genre               0\n",
            "Description         0\n",
            "Director            0\n",
            "Actors              0\n",
            "Year                0\n",
            "Runtime_Minutes     0\n",
            "Rating              0\n",
            "Votes               0\n",
            "Revenue_Millions    0\n",
            "Metascore           0\n",
            "dtype: int64\n"
          ],
          "name": "stdout"
        }
      ]
    },
    {
      "cell_type": "code",
      "metadata": {
        "colab": {
          "base_uri": "https://localhost:8080/"
        },
        "id": "bD4tOoIjimHo",
        "outputId": "9a535950-e21f-4c85-d218-1af0c3ea39b0"
      },
      "source": [
        "# new dataframe called cleaned movies\r\n",
        "clean_movies = movies\r\n",
        "print(clean_movies.isnull().sum())"
      ],
      "execution_count": 9,
      "outputs": [
        {
          "output_type": "stream",
          "text": [
            "Rank                0\n",
            "Title               0\n",
            "Genre               0\n",
            "Description         0\n",
            "Director            0\n",
            "Actors              0\n",
            "Year                0\n",
            "Runtime_Minutes     0\n",
            "Rating              0\n",
            "Votes               0\n",
            "Revenue_Millions    0\n",
            "Metascore           0\n",
            "dtype: int64\n"
          ],
          "name": "stdout"
        }
      ]
    },
    {
      "cell_type": "markdown",
      "metadata": {
        "id": "Ilw7diRlk8zC"
      },
      "source": [
        "## ***1.3***"
      ]
    },
    {
      "cell_type": "code",
      "metadata": {
        "colab": {
          "base_uri": "https://localhost:8080/",
          "height": 491
        },
        "id": "lMGiQCwTk-jP",
        "outputId": "4aea0692-c5eb-4265-8aed-eaef362b3a57"
      },
      "source": [
        "# Creating a histogram to illustrate distribution of the Runtime.\r\n",
        "import matplotlib.pyplot as plt\r\n",
        "plt.hist(clean_movies['Runtime_Minutes'], bins = 10, color = 'purple',\r\n",
        "         label = 'Movies', edgecolor = 'black', linewidth = 1.2)\r\n",
        "plt.suptitle('Frenquency of Movie Runtime')\r\n",
        "plt.xlabel('Runtime in Minutes')\r\n",
        "plt.ylabel('Frequency')\r\n",
        "plt.legend()\r\n",
        "plt.show() \r\n"
      ],
      "execution_count": 42,
      "outputs": [
        {
          "output_type": "display_data",
          "data": {
            "image/png": "[encoded data removed]",
            "text/plain": [
              "<Figure size 640x480 with 1 Axes>"
            ]
          },
          "metadata": {
            "tags": []
          }
        }
      ]
    },
    {
      "cell_type": "markdown",
      "metadata": {
        "id": "EvUGQVSqni_f"
      },
      "source": [
        "## ***1.4***"
      ]
    },
    {
      "cell_type": "code",
      "metadata": {
        "colab": {
          "base_uri": "https://localhost:8080/"
        },
        "id": "3lFm4ZbPnu8J",
        "outputId": "d1404b35-8dda-4792-d7d0-47178f51d2a2"
      },
      "source": [
        "# Ranking the Directors according to their average Rating.\r\n",
        "print(clean_movies[['Director', 'Rating']].sort_values('Rating',\r\n",
        "                                                       ascending = False))"
      ],
      "execution_count": 11,
      "outputs": [
        {
          "output_type": "stream",
          "text": [
            "              Director  Rating\n",
            "54   Christopher Nolan     9.0\n",
            "80   Christopher Nolan     8.8\n",
            "117      Nitesh Tiwari     8.8\n",
            "36   Christopher Nolan     8.6\n",
            "96      Makoto Shinkai     8.6\n",
            "..                 ...     ...\n",
            "968     Micheal Bafaro     3.5\n",
            "647  Jonathan Holbrook     3.2\n",
            "871         James Wong     2.7\n",
            "42       Shawn Burkett     2.7\n",
            "829    Jason Friedberg     1.9\n",
            "\n",
            "[1000 rows x 2 columns]\n"
          ],
          "name": "stdout"
        }
      ]
    },
    {
      "cell_type": "code",
      "metadata": {
        "colab": {
          "base_uri": "https://localhost:8080/"
        },
        "id": "cGXk-2UYn4aL",
        "outputId": "a1901636-5ebe-44e8-f36c-fc98abb18a89"
      },
      "source": [
        "# Select the top ten Directors and comparing their movie ratings in a\r\n",
        "# bar chart.\r\n",
        "topD = clean_movies.groupby('Director')['Rating'].mean().sort_values(\r\n",
        "    ascending = False)\r\n",
        "topD "
      ],
      "execution_count": 12,
      "outputs": [
        {
          "output_type": "execute_result",
          "data": {
            "text/plain": [
              "Director\n",
              "Nitesh Tiwari        8.80\n",
              "Christopher Nolan    8.68\n",
              "Makoto Shinkai       8.60\n",
              "Olivier Nakache      8.60\n",
              "Aamir Khan           8.50\n",
              "                     ... \n",
              "Femi Oyeniran        3.50\n",
              "Jonathan Holbrook    3.20\n",
              "Shawn Burkett        2.70\n",
              "James Wong           2.70\n",
              "Jason Friedberg      1.90\n",
              "Name: Rating, Length: 644, dtype: float64"
            ]
          },
          "metadata": {
            "tags": []
          },
          "execution_count": 12
        }
      ]
    },
    {
      "cell_type": "code",
      "metadata": {
        "colab": {
          "base_uri": "https://localhost:8080/",
          "height": 512
        },
        "id": "NFYKBNUJvxhQ",
        "outputId": "cc7da251-8b20-47f8-846e-b82d5ae14278"
      },
      "source": [
        "top10 = topD.iloc[0:10] # selecting the top 10 rated directors\r\n",
        "print(top10)\r\n",
        "top10.plot(kind = 'barh', width = 0.6, label = 'Director Scores',\r\n",
        "           color = ['crimson', 'tan', 'dodgerblue', 'darkorchid', 'gold',\r\n",
        "                    'firebrick', 'darkslategray', 'turquoise', 'chartreuse'\r\n",
        "                    , 'chocolate'] )\r\n",
        "\r\n",
        "plt.xlabel('Average Rating')\r\n",
        "plt.ylabel('Directors')\r\n",
        "plt.suptitle('Comparing Directors with their Average Movie Ratings')\r\n",
        "plt.xlim(8, 9)\r\n",
        "plt.legend(loc = 'upper right')\r\n",
        "plt.show()"
      ],
      "execution_count": 13,
      "outputs": [
        {
          "output_type": "stream",
          "text": [
            "Director\n",
            "Nitesh Tiwari                       8.80\n",
            "Christopher Nolan                   8.68\n",
            "Makoto Shinkai                      8.60\n",
            "Olivier Nakache                     8.60\n",
            "Aamir Khan                          8.50\n",
            "Florian Henckel von Donnersmarck    8.50\n",
            "Naoko Yamada                        8.40\n",
            "Damien Chazelle                     8.40\n",
            "Lee Unkrich                         8.30\n",
            "S.S. Rajamouli                      8.30\n",
            "Name: Rating, dtype: float64\n"
          ],
          "name": "stdout"
        },
        {
          "output_type": "display_data",
          "data": {
            "image/png": "[encoded data removed]",
            "text/plain": [
              "<Figure size 432x288 with 1 Axes>"
            ]
          },
          "metadata": {
            "tags": [],
            "needs_background": "light"
          }
        }
      ]
    },
    {
      "cell_type": "markdown",
      "metadata": {
        "id": "VW3ePlOr6-88"
      },
      "source": [
        "# ***1.5***"
      ]
    },
    {
      "cell_type": "code",
      "metadata": {
        "colab": {
          "base_uri": "https://localhost:8080/"
        },
        "id": "2SXLShr068-v",
        "outputId": "40aadf33-2552-4225-f478-cfd0a6e2972c"
      },
      "source": [
        "# generating three random integers as indices\r\n",
        "import numpy as np\r\n",
        "from random import randint\r\n",
        "\r\n",
        "ran_num = np.random.randint(999, size = 3)\r\n",
        "\r\n",
        "print(ran_num) # random numbers were 575, 47, 781"
      ],
      "execution_count": 14,
      "outputs": [
        {
          "output_type": "stream",
          "text": [
            "[616 994 714]\n"
          ],
          "name": "stdout"
        }
      ]
    },
    {
      "cell_type": "code",
      "metadata": {
        "colab": {
          "base_uri": "https://localhost:8080/"
        },
        "id": "0T7z3wjHBbyP",
        "outputId": "35c8c428-8d4b-437a-b315-17c0f9274b5f"
      },
      "source": [
        "# Using the generated three indices to select the corresponding\r\n",
        "# three Directors.\r\n",
        "\r\n",
        "\r\n",
        "print(clean_movies.loc[575]) # Director: Louis Leterrier\r\n",
        "print(clean_movies.loc[47]) # Director: Scott Hicks\r\n",
        "print(clean_movies.loc[781]) # Director: Tarsem Singh"
      ],
      "execution_count": 15,
      "outputs": [
        {
          "output_type": "stream",
          "text": [
            "Rank                                                              576\n",
            "Title                                             Clash of the Titans\n",
            "Genre                                        Action,Adventure,Fantasy\n",
            "Description         Perseus demigod, son of Zeus, battles the mini...\n",
            "Director                                              Louis Leterrier\n",
            "Actors              Sam Worthington, Liam Neeson, Ralph Fiennes,Ja...\n",
            "Year                                                             2010\n",
            "Runtime_Minutes                                                   106\n",
            "Rating                                                            5.8\n",
            "Votes                                                          238206\n",
            "Revenue_Millions                                               163.19\n",
            "Metascore                                                          39\n",
            "Name: 575, dtype: object\n",
            "Rank                                                               48\n",
            "Title                                                          Fallen\n",
            "Genre                                         Adventure,Drama,Fantasy\n",
            "Description         A young girl finds herself in a reform school ...\n",
            "Director                                                  Scott Hicks\n",
            "Actors              Hermione Corfield, Addison Timlin, Joely Richa...\n",
            "Year                                                             2016\n",
            "Runtime_Minutes                                                    91\n",
            "Rating                                                            5.6\n",
            "Votes                                                            5103\n",
            "Revenue_Millions                                              82.9564\n",
            "Metascore                                                      58.985\n",
            "Name: 47, dtype: object\n",
            "Rank                                                              782\n",
            "Title                                                       Self/less\n",
            "Genre                                           Action,Mystery,Sci-Fi\n",
            "Description         A dying real estate mogul transfers his consci...\n",
            "Director                                                 Tarsem Singh\n",
            "Actors              Ryan Reynolds, Natalie Martinez, Matthew Goode...\n",
            "Year                                                             2015\n",
            "Runtime_Minutes                                                   117\n",
            "Rating                                                            6.5\n",
            "Votes                                                           67196\n",
            "Revenue_Millions                                                12.28\n",
            "Metascore                                                          34\n",
            "Name: 781, dtype: object\n"
          ],
          "name": "stdout"
        }
      ]
    },
    {
      "cell_type": "code",
      "metadata": {
        "id": "MDN7eLg1b3r0",
        "colab": {
          "base_uri": "https://localhost:8080/"
        },
        "outputId": "92deffd0-dd6c-4841-8b3d-bded5d1cbe97"
      },
      "source": [
        "# Calculating the annual Metascore of the selected Directors\r\n",
        "\r\n",
        "# Director: Louis Leterrier \r\n",
        "meta_ll = clean_movies[clean_movies['Director'] == \r\n",
        "                      'Louis Leterrier'].groupby(\r\n",
        "                          'Director')['Metascore'].sum()\r\n",
        "meta_ll \r\n",
        "# Total meta score of Louis Leterrier, 194"
      ],
      "execution_count": 16,
      "outputs": [
        {
          "output_type": "execute_result",
          "data": {
            "text/plain": [
              "Director\n",
              "Louis Leterrier    194.0\n",
              "Name: Metascore, dtype: float64"
            ]
          },
          "metadata": {
            "tags": []
          },
          "execution_count": 16
        }
      ]
    },
    {
      "cell_type": "code",
      "metadata": {
        "colab": {
          "base_uri": "https://localhost:8080/"
        },
        "id": "PlIaGmtLp8Hu",
        "outputId": "45ed7aaa-9a18-4a3b-a157-1665cb8222a3"
      },
      "source": [
        "# Director: Nacho Vigalondo\r\n",
        "meta_sh = clean_movies[clean_movies['Director'] == \r\n",
        "                      'Scott Hicks'].groupby(\r\n",
        "                          'Director')['Metascore'].sum()\r\n",
        "meta_sh \r\n",
        "# Total meta score of Nacho Vigalondo, 70"
      ],
      "execution_count": 20,
      "outputs": [
        {
          "output_type": "execute_result",
          "data": {
            "text/plain": [
              "Director\n",
              "Scott Hicks    97.985043\n",
              "Name: Metascore, dtype: float64"
            ]
          },
          "metadata": {
            "tags": []
          },
          "execution_count": 20
        }
      ]
    },
    {
      "cell_type": "code",
      "metadata": {
        "colab": {
          "base_uri": "https://localhost:8080/"
        },
        "id": "joyYMmfip8gQ",
        "outputId": "f3f14a6d-8b7a-4757-bd2f-bccce0f9ffee"
      },
      "source": [
        "# Director: Josh Trank\r\n",
        "meta_ts = clean_movies[clean_movies['Director'] == \r\n",
        "                      'Tarsem Singh'].groupby(\r\n",
        "                          'Director')['Metascore'].sum()\r\n",
        "meta_ts \r\n",
        "# Total meta score of Josh Trank, 27"
      ],
      "execution_count": 22,
      "outputs": [
        {
          "output_type": "execute_result",
          "data": {
            "text/plain": [
              "Director\n",
              "Tarsem Singh    144.0\n",
              "Name: Metascore, dtype: float64"
            ]
          },
          "metadata": {
            "tags": []
          },
          "execution_count": 22
        }
      ]
    },
    {
      "cell_type": "code",
      "metadata": {
        "id": "6_dBY5mGb-pL",
        "colab": {
          "base_uri": "https://localhost:8080/"
        },
        "outputId": "810f3304-2e7d-44c0-a81f-73228d099203"
      },
      "source": [
        "# Using three subplots to illustrate the directors Metascore by year.\r\n",
        "# The range of the x-axis should be from 2006 to 2016.\r\n",
        "\r\n",
        "# Director: Louis Leterrier\r\n",
        "ll_df = clean_movies[clean_movies['Director'] == 'Louis Leterrier'].groupby(\r\n",
        "    'Year')['Metascore'].sum().sort_values(ascending = False)\r\n",
        "ll_df"
      ],
      "execution_count": 23,
      "outputs": [
        {
          "output_type": "execute_result",
          "data": {
            "text/plain": [
              "Year\n",
              "2008    61.0\n",
              "2013    50.0\n",
              "2016    44.0\n",
              "2010    39.0\n",
              "Name: Metascore, dtype: float64"
            ]
          },
          "metadata": {
            "tags": []
          },
          "execution_count": 23
        }
      ]
    },
    {
      "cell_type": "code",
      "metadata": {
        "colab": {
          "base_uri": "https://localhost:8080/"
        },
        "id": "v9WS6MWy4Fe5",
        "outputId": "c166d0f1-c17e-428f-ff21-3955b634c61b"
      },
      "source": [
        "# Director: Nacho Vigalondo\r\n",
        "sh_df = clean_movies[clean_movies['Director'] == 'Scott Hicks'].groupby(\r\n",
        "    'Year')['Metascore'].sum().sort_values(ascending = False)\r\n",
        "sh_df\r\n"
      ],
      "execution_count": 24,
      "outputs": [
        {
          "output_type": "execute_result",
          "data": {
            "text/plain": [
              "Year\n",
              "2016    58.985043\n",
              "2012    39.000000\n",
              "Name: Metascore, dtype: float64"
            ]
          },
          "metadata": {
            "tags": []
          },
          "execution_count": 24
        }
      ]
    },
    {
      "cell_type": "code",
      "metadata": {
        "colab": {
          "base_uri": "https://localhost:8080/"
        },
        "id": "844l0qwb55K0",
        "outputId": "e306518f-3915-4e3e-e562-b3587eedebf9"
      },
      "source": [
        "# Director: Josh Trank\r\n",
        "ts_df = clean_movies[clean_movies['Director'] == 'Tarsem Singh'].groupby(\r\n",
        "    'Year')['Metascore'].sum().sort_values(ascending = False)\r\n",
        "ts_df"
      ],
      "execution_count": 25,
      "outputs": [
        {
          "output_type": "execute_result",
          "data": {
            "text/plain": [
              "Year\n",
              "2006    64.0\n",
              "2011    46.0\n",
              "2015    34.0\n",
              "Name: Metascore, dtype: float64"
            ]
          },
          "metadata": {
            "tags": []
          },
          "execution_count": 25
        }
      ]
    },
    {
      "cell_type": "code",
      "metadata": {
        "colab": {
          "base_uri": "https://localhost:8080/",
          "height": 470
        },
        "id": "P_Ep_u6GsML7",
        "outputId": "8a930ef7-1f6c-4990-a83f-eeba4734cd6e"
      },
      "source": [
        "# producing three subplots,\r\n",
        "\r\n",
        "# plotting style\r\n",
        "plt.style.use('classic')\r\n",
        "\r\n",
        "# prepare data\r\n",
        "years = [2006, 2007, 2008, 2009, \r\n",
        "         2010, 2011, 2012, 2013,\r\n",
        "         2014, 2015, 2016]\r\n",
        "ll_subp = [0, 0, 61, 0, 39,\r\n",
        "           0, 0, 50, 0, 0, 4]\r\n",
        "sh_subp = [0, 0, 0, 0, 0, 0, 39,\r\n",
        "           0, 0, 0, 59]\r\n",
        "ts_subp = [64, 0, 0, 0, 0,\r\n",
        "           46, 0, 0, 0, 34, 0]\r\n",
        "# Set up a subplot grid that has height 3 and width 1,\r\n",
        "#  and set the first such subplot as active.\r\n",
        "fig, (ax1,ax2, ax3) = plt.subplots(3,1)\r\n",
        "\r\n",
        "# Make the first plot\r\n",
        "ax1.plot(years, ll_subp, 'r--*', label = 'Director:\\n Scott Hicks')\r\n",
        "ax1.set_title(\"Plot 1\") # \r\n",
        "ax1.legend(loc = 'upper right', prop = {'size': 9})\r\n",
        "plt.xlabel('Year')\r\n",
        "plt.ylabel('Sum of Annual Metascore')\r\n",
        "\r\n",
        "# make the second plot\r\n",
        "ax2.plot(years, sh_subp,'b--*', label = 'Director:\\n Nacho Vigalondo')\r\n",
        "ax2.set_title(\"Plot 2\") #\r\n",
        "ax2.legend(loc = 'upper left', prop = {'size': 9})\r\n",
        "plt.xlabel('Year') \r\n",
        "plt.ylabel('Sum of Annual Metascore')\r\n",
        "\r\n",
        "# make the third plot\r\n",
        "ax3.plot(years, ts_subp,'g--*', label = 'Director:\\n Tarsem Singh')\r\n",
        "ax3.set_title(\"Plot 3\") #\r\n",
        "ax3.legend(loc = 'upper left', prop = {'size': 9})\r\n",
        "plt.xlabel('Year')\r\n",
        "plt.ylabel('Sum of Annual Metascore')\r\n",
        "\r\n",
        "plt.show()"
      ],
      "execution_count": 27,
      "outputs": [
        {
          "output_type": "display_data",
          "data": {
            "image/png": "[encoded data removed]",
            "text/plain": [
              "<Figure size 640x480 with 3 Axes>"
            ]
          },
          "metadata": {
            "tags": []
          }
        }
      ]
    },
    {
      "cell_type": "markdown",
      "metadata": {
        "id": "h9lAphkcLcQ3"
      },
      "source": [
        "# ***1.6***"
      ]
    },
    {
      "cell_type": "code",
      "metadata": {
        "id": "yYr7B_vtLd6O",
        "colab": {
          "base_uri": "https://localhost:8080/"
        },
        "outputId": "c86a1ebf-446c-4627-c133-292273f3ca58"
      },
      "source": [
        "# selecting and sampling movies' Revenue and Metascore \r\n",
        "#viewing the data\r\n",
        "meta_rev = round(clean_movies[['Metascore', 'Revenue_Millions']])\r\n",
        "print(meta_rev.describe())"
      ],
      "execution_count": 28,
      "outputs": [
        {
          "output_type": "stream",
          "text": [
            "         Metascore  Revenue_Millions\n",
            "count  1000.000000       1000.000000\n",
            "mean     58.986000         82.948000\n",
            "std      16.634859         96.413271\n",
            "min      11.000000          0.000000\n",
            "25%      47.750000         17.000000\n",
            "50%      59.000000         60.000000\n",
            "75%      71.000000         99.250000\n",
            "max     100.000000        937.000000\n"
          ],
          "name": "stdout"
        }
      ]
    },
    {
      "cell_type": "code",
      "metadata": {
        "colab": {
          "base_uri": "https://localhost:8080/",
          "height": 297
        },
        "id": "FgUYqc9OgptL",
        "outputId": "f1333785-4080-48df-c522-b8c380fbf612"
      },
      "source": [
        "# placing constraints on the data\r\n",
        "meta_rev_cn = meta_rev[(meta_rev['Revenue_Millions'] < 700) & \r\n",
        "\r\n",
        "# cleaned movies invovles NaNs appended as the mean,\r\n",
        "# this obscures the graph line. so mean number not included. \r\n",
        "                       (meta_rev['Revenue_Millions'] != 83) &\r\n",
        "                       (meta_rev['Revenue_Millions'] > 45)                       \r\n",
        "]\r\n",
        "meta_rev_cn.describe()"
      ],
      "execution_count": 29,
      "outputs": [
        {
          "output_type": "execute_result",
          "data": {
            "text/html": [
              "<div>\n",
              "<style scoped>\n",
              "    .dataframe tbody tr th:only-of-type {\n",
              "        vertical-align: middle;\n",
              "    }\n",
              "\n",
              "    .dataframe tbody tr th {\n",
              "        vertical-align: top;\n",
              "    }\n",
              "\n",
              "    .dataframe thead th {\n",
              "        text-align: right;\n",
              "    }\n",
              "</style>\n",
              "<table border=\"1\" class=\"dataframe\">\n",
              "  <thead>\n",
              "    <tr style=\"text-align: right;\">\n",
              "      <th></th>\n",
              "      <th>Metascore</th>\n",
              "      <th>Revenue_Millions</th>\n",
              "    </tr>\n",
              "  </thead>\n",
              "  <tbody>\n",
              "    <tr>\n",
              "      <th>count</th>\n",
              "      <td>448.000000</td>\n",
              "      <td>448.000000</td>\n",
              "    </tr>\n",
              "    <tr>\n",
              "      <th>mean</th>\n",
              "      <td>59.785714</td>\n",
              "      <td>142.426339</td>\n",
              "    </tr>\n",
              "    <tr>\n",
              "      <th>std</th>\n",
              "      <td>15.673645</td>\n",
              "      <td>100.701917</td>\n",
              "    </tr>\n",
              "    <tr>\n",
              "      <th>min</th>\n",
              "      <td>19.000000</td>\n",
              "      <td>46.000000</td>\n",
              "    </tr>\n",
              "    <tr>\n",
              "      <th>25%</th>\n",
              "      <td>49.000000</td>\n",
              "      <td>67.000000</td>\n",
              "    </tr>\n",
              "    <tr>\n",
              "      <th>50%</th>\n",
              "      <td>59.000000</td>\n",
              "      <td>108.500000</td>\n",
              "    </tr>\n",
              "    <tr>\n",
              "      <th>75%</th>\n",
              "      <td>71.000000</td>\n",
              "      <td>180.000000</td>\n",
              "    </tr>\n",
              "    <tr>\n",
              "      <th>max</th>\n",
              "      <td>96.000000</td>\n",
              "      <td>652.000000</td>\n",
              "    </tr>\n",
              "  </tbody>\n",
              "</table>\n",
              "</div>"
            ],
            "text/plain": [
              "        Metascore  Revenue_Millions\n",
              "count  448.000000        448.000000\n",
              "mean    59.785714        142.426339\n",
              "std     15.673645        100.701917\n",
              "min     19.000000         46.000000\n",
              "25%     49.000000         67.000000\n",
              "50%     59.000000        108.500000\n",
              "75%     71.000000        180.000000\n",
              "max     96.000000        652.000000"
            ]
          },
          "metadata": {
            "tags": []
          },
          "execution_count": 29
        }
      ]
    },
    {
      "cell_type": "code",
      "metadata": {
        "colab": {
          "base_uri": "https://localhost:8080/",
          "height": 487
        },
        "id": "kImHdqOpjDC_",
        "outputId": "b73c975c-b34a-4dba-d0eb-13048a86c5d1"
      },
      "source": [
        "# plotting revenue against metascore \r\n",
        "\r\n",
        "meta_rev_cn.plot(kind = 'scatter',\r\n",
        "                 x = 'Metascore',\r\n",
        "                 y = 'Revenue_Millions',\r\n",
        "                 label = 'Movies',\r\n",
        "                 logy = False,\r\n",
        "                 xlim = (20, 100),\r\n",
        "                 ylim = (40, 1000))\r\n",
        "plt.legend(loc = 'upper left')\r\n",
        "plt.title('Relationship of Movie Revenue (£M)\\n against Movie Metascores')\r\n",
        "plt.show()"
      ],
      "execution_count": 30,
      "outputs": [
        {
          "output_type": "display_data",
          "data": {
            "image/png": "[encoded data removed]",
            "text/plain": [
              "<Figure size 640x480 with 1 Axes>"
            ]
          },
          "metadata": {
            "tags": []
          }
        }
      ]
    },
    {
      "cell_type": "markdown",
      "metadata": {
        "id": "35y0uyb8R439"
      },
      "source": [
        "# ***1.7***"
      ]
    },
    {
      "cell_type": "code",
      "metadata": {
        "id": "EiKbMe6CR4hH",
        "colab": {
          "base_uri": "https://localhost:8080/"
        },
        "outputId": "93883dc1-4fc5-42b4-8106-454dc6e89407"
      },
      "source": [
        "# generating 30 random integers 0 to 1000\r\n",
        "x = np.random.randint(0,1000,30)\r\n",
        "print(x)\r\n"
      ],
      "execution_count": 31,
      "outputs": [
        {
          "output_type": "stream",
          "text": [
            "[953 313  62 363 829 846 784 309 780 586 598 557 210 311  83  85 410 246\n",
            "  39 630 175 737 450 149 768 839 809 154 864 219]\n"
          ],
          "name": "stdout"
        }
      ]
    },
    {
      "cell_type": "code",
      "metadata": {
        "id": "cz7wp9rHC-sZ",
        "colab": {
          "base_uri": "https://localhost:8080/"
        },
        "outputId": "15e8a743-5a11-4b20-8396-3a0b4e771639"
      },
      "source": [
        "# using the generated random numbers to extract rows\r\n",
        "#  from the dataframe clean movies\r\n",
        "\r\n",
        "cmx = clean_movies.loc[x]\r\n",
        "print(cmx)"
      ],
      "execution_count": 32,
      "outputs": [
        {
          "output_type": "stream",
          "text": [
            "     Rank  ...  Metascore\n",
            "953   954  ...  61.000000\n",
            "313   314  ...  59.000000\n",
            "62     63  ...  48.000000\n",
            "363   364  ...  73.000000\n",
            "829   830  ...  15.000000\n",
            "846   847  ...  55.000000\n",
            "784   785  ...  31.000000\n",
            "309   310  ...  51.000000\n",
            "780   781  ...  56.000000\n",
            "586   587  ...  59.000000\n",
            "598   599  ...  67.000000\n",
            "557   558  ...  40.000000\n",
            "210   211  ...  43.000000\n",
            "311   312  ...  88.000000\n",
            "83     84  ...  79.000000\n",
            "85     86  ...  59.000000\n",
            "410   411  ...  50.000000\n",
            "246   247  ...  84.000000\n",
            "39     40  ...  58.985043\n",
            "630   631  ...  55.000000\n",
            "175   176  ...  60.000000\n",
            "737   738  ...  57.000000\n",
            "450   451  ...  57.000000\n",
            "149   150  ...  42.000000\n",
            "768   769  ...  56.000000\n",
            "839   840  ...  60.000000\n",
            "809   810  ...  30.000000\n",
            "154   155  ...  58.985043\n",
            "864   865  ...  41.000000\n",
            "219   220  ...  66.000000\n",
            "\n",
            "[30 rows x 12 columns]\n"
          ],
          "name": "stdout"
        }
      ]
    },
    {
      "cell_type": "code",
      "metadata": {
        "colab": {
          "base_uri": "https://localhost:8080/",
          "height": 504
        },
        "id": "_wyZoLbvEzCU",
        "outputId": "604f116a-4cc0-466e-964a-2f04e857798c"
      },
      "source": [
        "# Drawing a chart to present the relationship between \r\n",
        "# movie Year and movie Votes.\r\n",
        "\r\n",
        "cmx1 = cmx.groupby('Year')['Votes'].sum()\r\n",
        "cmx1.plot(x = 'Year',\r\n",
        "          ylabel = 'Votes',\r\n",
        "          y = 'Votes',\r\n",
        "          legend = 'Votes',\r\n",
        "          title = 'Relationship of Movie Vote\\n against Movie Year of release',\r\n",
        "          xlim = (2006, 2016))"
      ],
      "execution_count": 109,
      "outputs": [
        {
          "output_type": "execute_result",
          "data": {
            "text/plain": [
              "<matplotlib.axes._subplots.AxesSubplot at 0x7f70b1575cc0>"
            ]
          },
          "metadata": {
            "tags": []
          },
          "execution_count": 109
        },
        {
          "output_type": "display_data",
          "data": {
            "image/png": "[encoded data removed]",
            "text/plain": [
              "<Figure size 640x480 with 1 Axes>"
            ]
          },
          "metadata": {
            "tags": []
          }
        }
      ]
    }
  ]
}